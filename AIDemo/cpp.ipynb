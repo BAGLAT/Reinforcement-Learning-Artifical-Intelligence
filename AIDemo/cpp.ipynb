{
 "cells": [
  {
   "cell_type": "code",
   "execution_count": 63,
   "metadata": {},
   "outputs": [],
   "source": [
    "#https://www.datacamp.com/community/tutorials/networkx-python-graph-tutorial\n",
    "#https://www-m9.ma.tum.de/graph-algorithms/directed-chinese-postman/index_en.html\n",
    "\n",
    "import itertools\n",
    "import copy\n",
    "import networkx as nx\n",
    "import pandas as pd\n",
    "import matplotlib.pyplot as plt"
   ]
  },
  {
   "cell_type": "code",
   "execution_count": 64,
   "metadata": {},
   "outputs": [],
   "source": [
    "def plot_graph(g,title):\n",
    "    pos=nx.get_node_attributes(g,'pos')\n",
    "    node_labels=nx.get_node_attributes(g,'id')\n",
    "    nx.draw(g,pos)\n",
    "    labels = nx.get_edge_attributes(g,'weight')\n",
    "    nx.draw_networkx_labels(g,pos,labels=node_labels)\n",
    "    updated_labels={}\n",
    "    for item in labels:\n",
    "        updated_labels[item[:2]]=labels[item]\n",
    "    nx.draw_networkx_edge_labels(g,pos,edge_labels=updated_labels,connectionstyle='arc3,rad=-100',rotate=True)\n",
    "    plt.title(title)\n",
    "    plt.show()\n",
    "\n",
    "def plot_graph2(g,title):\n",
    "    #pos=nx.get_node_attributes(g,'pos')\n",
    "    layout = dict((n, g.nodes[n][\"pos\"]) for n in g.nodes())\n",
    "    nx.draw(g,pos=layout,with_labels=True,node_size=500)\n",
    "    '''\n",
    "    ax = plt.gca()\n",
    "    for edge in g.edges():\n",
    "            ax.annotate(\"\",\n",
    "                xy=layout[edge[0]], xycoords='data',\n",
    "                xytext=layout[edge[1]], textcoords='data',\n",
    "                arrowprops=dict(arrowstyle=\"->\", color=\"0.5\",\n",
    "                                shrinkA=5, shrinkB=5,\n",
    "                                patchA=None, patchB=None,\n",
    "                                connectionstyle=\"arc3,rad=-0.3\",\n",
    "                                ),\n",
    "                )\n",
    "\n",
    "    '''\n",
    "    plt.show()\n",
    "\n",
    "def add_edges(g,edges,weight,name):\n",
    "    if name in list(nx.get_edge_attributes(g,'name').values()):\n",
    "        edge_weight_data=nx.get_edge_attributes(g,'weight')\n",
    "        this_edge_weight_list=edge_weight_data[edges]\n",
    "        this_edge_weight_list.append(weight)\n",
    "        g.add_edge(edges[0],edges[1],name=name,weight=this_edge_weight_list)\n",
    "    else:\n",
    "        g.add_edge(edges[0],edges[1],name=name,weight=[weight])\n",
    "\n",
    "\n"
   ]
  },
  {
   "cell_type": "code",
   "execution_count": 75,
   "metadata": {},
   "outputs": [],
   "source": [
    "#edgelist = pd.read_csv('C:\\\\Users\\\\SIDDHARTHA\\\\Trinity\\\\AI\\\\AIDemo\\\\data\\\\edgelist.csv')\n",
    "#nodelist = pd.read_csv('C:\\\\Users\\\\SIDDHARTHA\\\\Trinity\\\\AI\\\\AIDemo\\\\data\\\\nodelist.csv')\n",
    "\n",
    "edgelist=pd.read_csv('https://gist.githubusercontent.com/brooksandrew/e570c38bcc72a8d102422f2af836513b/raw/89c76b2563dbc0e88384719a35cba0dfc04cd522/edgelist_sleeping_giant.csv')\n",
    "nodelist = pd.read_csv('https://gist.githubusercontent.com/brooksandrew/f989e10af17fb4c85b11409fea47895b/raw/a3a8da0fa5b094f1ca9d82e1642b384889ae16e8/nodelist_sleeping_giant.csv')\n",
    "\n",
    "g = nx.MultiDiGraph()\n",
    "\n",
    "for index,row in nodelist.iterrows():\n",
    "    g.add_node(row['id'],pos=(row['X'],row['Y']),id=row['id'])\n",
    "\n",
    "\n",
    "for index,row in edgelist.iterrows():\n",
    "    #add_edges(g,(row['node1'],row['node2']),row['distance'],row['trail'])\n",
    "    g.add_edge(row['node1'],row['node2'],name=str(row['trail'])+str(row['distance']),weight=row['distance']) "
   ]
  },
  {
   "cell_type": "code",
   "execution_count": 77,
   "metadata": {},
   "outputs": [],
   "source": [
    "#print(g.edges(data=True))\n",
    "#add_edges(g,('b','a'),890,'ba')\n",
    "#print(g.edges(data=True))\n",
    "#plot_graph(g,'CPP')"
   ]
  },
  {
   "cell_type": "code",
   "execution_count": 79,
   "metadata": {},
   "outputs": [
    {
     "data": {
      "text/plain": "'\\nimport networkx as nx\\nimport matplotlib.pyplot as plt\\n\\n\\n\\n# Graph data\\n\\nnames = g.nodes()\\npositions = list(nx.get_node_attributes(g,\\'pos\\').values())\\nedges = g.edges()\\nlabels = list(nx.get_edge_attributes(g,\\'weight\\').values())\\n\\nprint(g.edges(data=True))\\n\\n# Matplotlib figure\\nplt.figure(\\'My graph problem\\')\\n\\n# Create graph\\nG = nx.MultiDiGraph(format=\\'png\\', directed=True)\\n\\nfor index, name in enumerate(names):\\n    G.add_node(name, pos=positions[index])\\n\\nlabels = {}\\nlayout = dict((n, G.nodes[n][\"pos\"]) for n in G.nodes())\\nnx.draw(G, pos=layout, with_labels=True, node_size=600)\\n\\nax = plt.gca()\\nfor edge in edges:\\n    ax.annotate(\"\",xy=layout[edge[0]], xycoords=\\'data\\',xytext=layout[edge[1]], textcoords=\\'data\\',\\n    arrowprops=dict(arrowstyle=\"->\",connectionstyle=\"arc3,rad=-0.3\"))\\n    ax.annotate(\"x\",xy=(layout[edge[0]][0]-1,layout[edge[0]][1]-1))\\n\\nplt.show()\\n'"
     },
     "execution_count": 79,
     "metadata": {},
     "output_type": "execute_result"
    }
   ],
   "source": [
    "'''\n",
    "import networkx as nx\n",
    "import matplotlib.pyplot as plt\n",
    "\n",
    "\n",
    "\n",
    "# Graph data\n",
    "\n",
    "names = g.nodes()\n",
    "positions = list(nx.get_node_attributes(g,'pos').values())\n",
    "edges = g.edges()\n",
    "labels = list(nx.get_edge_attributes(g,'weight').values())\n",
    "\n",
    "print(g.edges(data=True))\n",
    "\n",
    "# Matplotlib figure\n",
    "plt.figure('My graph problem')\n",
    "\n",
    "# Create graph\n",
    "G = nx.MultiDiGraph(format='png', directed=True)\n",
    "\n",
    "for index, name in enumerate(names):\n",
    "    G.add_node(name, pos=positions[index])\n",
    "\n",
    "labels = {}\n",
    "layout = dict((n, G.nodes[n][\"pos\"]) for n in G.nodes())\n",
    "nx.draw(G, pos=layout, with_labels=True, node_size=600)\n",
    "\n",
    "ax = plt.gca()\n",
    "for edge in edges:\n",
    "    ax.annotate(\"\",xy=layout[edge[0]], xycoords='data',xytext=layout[edge[1]], textcoords='data',\n",
    "    arrowprops=dict(arrowstyle=\"->\",connectionstyle=\"arc3,rad=-0.3\"))\n",
    "    ax.annotate(\"x\",xy=(layout[edge[0]][0]-1,layout[edge[0]][1]-1))\n",
    "\n",
    "plt.show()\n",
    "'''\n",
    "\n",
    "#print(g.edges(data=True))   "
   ]
  },
  {
   "cell_type": "code",
   "execution_count": 83,
   "metadata": {},
   "outputs": [
    {
     "name": "stdout",
     "output_type": "stream",
     "text": "Nodes not present in graph!\n"
    }
   ],
   "source": [
    "#CPP algo start.\n",
    "from collections import deque\n",
    "def BFS(g,start,end):\n",
    "    queue = deque()\n",
    "    visited = deque()\n",
    "    current_node = start\n",
    "    visited.append(start)\n",
    "    if start not in g.nodes() or end not in g.nodes():\n",
    "        return \"Nodes not present in graph!\"\n",
    "    else:\n",
    "        while True:\n",
    "            adj=[edge for edge in g.edges(data=True) if edge[0]==current_node and edge[1] not in visited]\n",
    "            #print('current node: ',current_node)\n",
    "            #print('adj: ',adj)\n",
    "            for edge in adj:\n",
    "                queue.append(edge[1])\n",
    "                visited.append(edge[1])\n",
    "                if end in visited:\n",
    "                    return visited\n",
    "            #print('q-',queue)\n",
    "            #print('v-',visited)\n",
    "            #print('visited: ',visited)\n",
    "            #print('q: ',queue)\n",
    "            #print('------------------------------------------')\n",
    "            #if all(item in visited for item in g.nodes()):\n",
    "            #    return visited\n",
    "            current_node=queue.popleft()\n",
    "                \n",
    "\n",
    "print(BFS(g,'a','e'))\n",
    "\n"
   ]
  },
  {
   "cell_type": "code",
   "execution_count": 88,
   "metadata": {},
   "outputs": [],
   "source": [
    "def djkstra(g,start):\n",
    "    LARGE_NUM=999999\n",
    "    shortest_path_dict={}\n",
    "    visited=[]\n",
    "    unvisited=[]\n",
    "    current_node=start\n",
    "    step=0\n",
    "    for node in g.nodes():\n",
    "        if node != start:\n",
    "            shortest_path_dict[node]={'weight':LARGE_NUM,'prev':None}\n",
    "        else:\n",
    "            shortest_path_dict[node]={'weight':0,'prev':None}\n",
    "    while True:\n",
    "            adj=[edge for edge in g.edges(data=True) if edge[0]==current_node and edge[1] not in visited]\n",
    "            #print(shortest_path_dict)\n",
    "            dist_from_curr=shortest_path_dict[current_node]['weight']\n",
    "            for edge in adj:\n",
    "                adj_node=edge[1]\n",
    "                weight=edge[2]['weight']\n",
    "                if dist_from_curr+weight < shortest_path_dict[adj_node]['weight']:\n",
    "                    shortest_path_dict[adj_node]['weight']=dist_from_curr+weight\n",
    "                    shortest_path_dict[adj_node]['prev']=current_node\n",
    "            shortest_path_dict={k: v for k, v in sorted(shortest_path_dict.items(), key=lambda item: item[1]['weight'])}\n",
    "            visited.append(current_node)\n",
    "            for item in list(shortest_path_dict.keys()):\n",
    "                if item not in visited:\n",
    "                    current_node=item\n",
    "                    break\n",
    "            #print(shortest_path_dict)\n",
    "            #print(visited)\n",
    "            #print(current_node)\n",
    "            #print('----')\n",
    "            if all(elem in visited for elem in g.nodes()):\n",
    "                return shortest_path_dict\n",
    "\n",
    "def get_shortest_path(path_data,end):\n",
    "    current_node=end\n",
    "    path=[]\n",
    "    path.append(end)\n",
    "    while path_data[current_node]['prev'] is not None:\n",
    "        path.append(path_data[current_node]['prev'])\n",
    "        current_node=path_data[current_node]['prev']\n",
    "    return path[::-1]\n",
    "\n"
   ]
  },
  {
   "cell_type": "code",
   "execution_count": 92,
   "metadata": {},
   "outputs": [
    {
     "data": {
      "text/plain": "{'b_bw': {'weight': 0, 'prev': None},\n 'b_rt': {'weight': 0.14, 'prev': 'b_bw'},\n 'b_tt_2': {'weight': 0.17, 'prev': 'b_rt'},\n 'b_tt_2_dupe': {'weight': 0.17, 'prev': 'b_tt_2'},\n 'w_bw': {'weight': 0.19, 'prev': 'b_bw'},\n 'g_rt': {'weight': 0.23, 'prev': 'b_rt'},\n 'g_w': {'weight': 0.28, 'prev': 'w_bw'},\n 'o_rt': {'weight': 0.28, 'prev': 'g_rt'},\n 'b_tt_3': {'weight': 0.32, 'prev': 'b_tt_2'},\n 'b_tt_3_dupe': {'weight': 0.32, 'prev': 'b_tt_3'},\n 'w_rt': {'weight': 0.34, 'prev': 'o_rt'},\n 'o_w_1': {'weight': 0.46, 'prev': 'g_w'},\n 'g_gy1': {'weight': 0.49, 'prev': 'g_rt'},\n 'y_rt': {'weight': 0.53, 'prev': 'w_rt'},\n 'o_gy1': {'weight': 0.64, 'prev': 'g_gy1'},\n 'w_gy1': {'weight': 0.67, 'prev': 'w_rt'},\n 'rt_end_south': {'weight': 0.71, 'prev': 'y_rt'},\n 'b_rc': {'weight': 0.72, 'prev': 'b_tt_3'},\n 'y_gy1': {'weight': 0.81, 'prev': 'w_gy1'},\n 'g_rc': {'weight': 0.86, 'prev': 'g_gy1'},\n 'y_rc': {'weight': 0.99, 'prev': 'y_gy1'},\n 'o_rc': {'weight': 0.99, 'prev': 'g_rc'},\n 'w_rc': {'weight': 1.0, 'prev': 'w_gy1'},\n 'o_w_2': {'weight': 1.1, 'prev': 'o_rc'},\n 'b_bv': {'weight': 1.13, 'prev': 'b_rc'},\n 'o_rs': {'weight': 1.25, 'prev': 'o_w_2'},\n 'g_rs': {'weight': 1.31, 'prev': 'g_rc'},\n 'rc_end_south': {'weight': 1.35, 'prev': 'y_rc'},\n 'w_rs': {'weight': 1.36, 'prev': 'o_w_2'},\n 'b_g': {'weight': 1.36, 'prev': 'g_rs'},\n 'y_rs': {'weight': 1.37, 'prev': 'o_rs'},\n 'b_w': {'weight': 1.4200000000000002, 'prev': 'w_rs'},\n 'y_gy2': {'weight': 1.53, 'prev': 'y_rs'},\n 'b_rs': {'weight': 1.5599999999999998, 'prev': 'b_bv'},\n 'o_gy2': {'weight': 1.58, 'prev': 'o_rs'},\n 'b_o': {'weight': 1.6400000000000001, 'prev': 'o_gy2'},\n 'b_y': {'weight': 1.7200000000000002, 'prev': 'b_o'},\n 'park_east': {'weight': 1.7500000000000002, 'prev': 'b_o'},\n 'rs_end_south': {'weight': 1.7600000000000002, 'prev': 'y_rs'},\n 'g_gy2': {'weight': 1.81, 'prev': 'b_g'},\n 'b_gy2': {'weight': 1.83, 'prev': 'b_w'},\n 'w_gy2': {'weight': 1.84, 'prev': 'b_w'},\n 'b_end_east': {'weight': 3.04, 'prev': 'b_y'},\n 'b_end_west': {'weight': 999999, 'prev': None},\n 'b_rd': {'weight': 999999, 'prev': None},\n 'b_rd_dupe': {'weight': 999999, 'prev': None},\n 'b_rh': {'weight': 999999, 'prev': None},\n 'b_tt_1': {'weight': 999999, 'prev': None},\n 'b_v': {'weight': 999999, 'prev': None},\n 'bstub_w': {'weight': 999999, 'prev': None},\n 'nature_end_west': {'weight': 999999, 'prev': None},\n 'o_rh': {'weight': 999999, 'prev': None},\n 'o_tt': {'weight': 999999, 'prev': None},\n 'o_y_tt_end_west': {'weight': 999999, 'prev': None},\n 'rc_end_north': {'weight': 999999, 'prev': None},\n 'rd_end_north': {'weight': 999999, 'prev': None},\n 'rd_end_south': {'weight': 999999, 'prev': None},\n 'rd_end_south_dupe': {'weight': 999999, 'prev': None},\n 'rh_end_north': {'weight': 999999, 'prev': None},\n 'rh_end_south': {'weight': 999999, 'prev': None},\n 'rh_end_tt_1': {'weight': 999999, 'prev': None},\n 'rh_end_tt_2': {'weight': 999999, 'prev': None},\n 'rh_end_tt_3': {'weight': 999999, 'prev': None},\n 'rh_end_tt_4': {'weight': 999999, 'prev': None},\n 'rs_end_north': {'weight': 999999, 'prev': None},\n 'rt_end_north': {'weight': 999999, 'prev': None},\n 'tt_rt': {'weight': 999999, 'prev': None},\n 'v_bv': {'weight': 999999, 'prev': None},\n 'v_end_east': {'weight': 999999, 'prev': None},\n 'v_end_west': {'weight': 999999, 'prev': None},\n 'v_rc': {'weight': 999999, 'prev': None},\n 'v_rd': {'weight': 999999, 'prev': None},\n 'v_rh': {'weight': 999999, 'prev': None},\n 'v_rs': {'weight': 999999, 'prev': None},\n 'v_rt': {'weight': 999999, 'prev': None},\n 'w_tt': {'weight': 999999, 'prev': None},\n 'y_rh': {'weight': 999999, 'prev': None}}"
     },
     "execution_count": 92,
     "metadata": {},
     "output_type": "execute_result"
    }
   ],
   "source": [
    "djkstra(g,'b_bw')\n",
    "\n",
    "#get_shortest_path(djkstra(g,''),'e')"
   ]
  }
 ],
 "metadata": {
  "kernelspec": {
   "display_name": "Python 3.7.4 64-bit ('AIDemo': pipenv)",
   "language": "python",
   "name": "python37464bitaidemopipenv6d069d679b354143a82e578cc8d7e3f5"
  },
  "language_info": {
   "codemirror_mode": {
    "name": "ipython",
    "version": 3
   },
   "file_extension": ".py",
   "mimetype": "text/x-python",
   "name": "python",
   "nbconvert_exporter": "python",
   "pygments_lexer": "ipython3",
   "version": "3.7.4-final"
  }
 },
 "nbformat": 4,
 "nbformat_minor": 2
}